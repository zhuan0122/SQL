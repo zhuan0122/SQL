{
 "cells": [
  {
   "cell_type": "markdown",
   "metadata": {},
   "source": [
    "### 1. SQL66 牛客每个人最近的登录日期(一)\n",
    "\n",
    "* what I do: RANK BY DATE WITHIN PARTITION(GROUP) 在每个分组中来对注册日期 进行排序。 如果我直接在新城生的LOGIN 表格中 来用WHERE \n",
    "  会报错， 所以我选择把新生成的LOGIN 当作一张表， 然后从这张表中重新选择"
   ]
  },
  {
   "cell_type": "code",
   "execution_count": null,
   "metadata": {},
   "outputs": [],
   "source": [
    "SELECT s.user_id, s.date FROM\n",
    "(SELECT user_id, date, \n",
    "RANK() OVER(PARTITION BY user_id ORDER BY date DESC) AS rak FROM login) AS s\n",
    "WHERE s.rak=1"
   ]
  },
  {
   "cell_type": "code",
   "execution_count": null,
   "metadata": {},
   "outputs": [],
   "source": [
    "| 牛客给的解法》 使用 集合函数 与GROUP BY 在一起 这样 我们可以不用担心 必须在GROUP BY 里面选择所有SELECT 中出现的COLUMN 因为\n",
    " column 也可以出现在 集合函数中"
   ]
  },
  {
   "cell_type": "code",
   "execution_count": null,
   "metadata": {},
   "outputs": [],
   "source": [
    "# HOW TO do filter or order by within each group? \n",
    "SELECT user_id, MAX(date) as d FROM login \n",
    "GROUP BY user_id \n",
    "ORDER BY user_id ASC"
   ]
  },
  {
   "cell_type": "markdown",
   "metadata": {},
   "source": [
    "### 2. SQL67 牛客每个人最近的登录日期(二)  较难\n",
    "牛客每天有很多人登录，请你统计一下牛客每个用户最近登录是哪一天，用的是什么设备."
   ]
  },
  {
   "cell_type": "code",
   "execution_count": null,
   "metadata": {},
   "outputs": [],
   "source": [
    "| 我的想法 拿到这个题 因为也是多表格 属于份表格的情况 那么我们就要 考虑 从小表格 开始 达成 局部目标， 得到部分想要的数据 再 合并各个\n",
    "表格 可以用 笛卡尔积 where 或者 JOIN \n",
    "我是 先把 每个用户 最近登录的时间 导出做成一个表格， 用到了 RANK在 每个GROUP 里面 排序 这样可以包含 CLIENT?ID 如果用\n",
    "GROUP BY 的话 那么 我们DATE 放在 MAX 函数里面 但是 CLIENT?ID 不能选 因为我们需要它来找到 设备的名字 但是它如果选了的话 那就是 GROUP\n",
    "BY USER?ID 和 CLIENT?ID 不是我们想要的 我们就想 对USER?ID 单独 排除重复项\n",
    "因为同一个 用户也有可能用不同设备 \n"
   ]
  },
  {
   "cell_type": "code",
   "execution_count": 2,
   "metadata": {},
   "outputs": [
    {
     "ename": "SyntaxError",
     "evalue": "invalid syntax (<ipython-input-2-2ed0045443e8>, line 1)",
     "output_type": "error",
     "traceback": [
      "\u001b[1;36m  File \u001b[1;32m\"<ipython-input-2-2ed0045443e8>\"\u001b[1;36m, line \u001b[1;32m1\u001b[0m\n\u001b[1;33m    SELECT user.name as u_n, table2.c_n, table2.date  FROM user,\u001b[0m\n\u001b[1;37m           ^\u001b[0m\n\u001b[1;31mSyntaxError\u001b[0m\u001b[1;31m:\u001b[0m invalid syntax\n"
     ]
    }
   ],
   "source": [
    "SELECT user.name as u_n, table2.c_n, table2.date  FROM user,\n",
    "\n",
    "(SELECT c_rank.user_id, client.name as c_n, c_rank.date FROM client,\n",
    "(SELECT user_id, client_id, date, RANK() OVER(PARTITION BY user_id ORDER BY date DESC)\n",
    " AS c_ran FROM login ) AS c_rank\n",
    "WHERE c_rank.c_ran=1 and client.id=c_rank.client_id) AS table2\n",
    "WHERE user.id=table2.user_id \n",
    "ORDER BY u_n ASC"
   ]
  },
  {
   "cell_type": "markdown",
   "metadata": {},
   "source": [
    "### 3. SQL68 牛客每个人最近的登录日期(三)\n",
    "牛客每天有很多人登录，请你统计一下牛客新登录用户的次日成功的留存率\n",
    "(sqlite里查找某一天的后一天的用法是:date(yyyy-mm-dd, '+1 day')，四舍五入的函数为round，sqlite 1/2得到的不是0.5，得到的是0，只有1*1.0/2才会得到0.5\n",
    "mysql里查找某一天的后一天的用法是:DATE_ADD(yyyy-mm-dd,INTERVAL 1 DAY)，四舍五入的函数为round)"
   ]
  },
  {
   "cell_type": "markdown",
   "metadata": {},
   "source": [
    "#### 就是判断他们有没有在第一登录后一天的日期登录过 这就叫次日保存率 \n",
    "#### 对于每一行 我们 看他是不是第一次登录 所以我们考虑所有用户最近登录的表格\n",
    "#### 他是的话 那么再对他进行后面一天的查看 但是用CASE 查看的时候我们用uni_login 因为我们不需要看同一个用户在其首次登录的那天重复#### 登录了几次 然后 在考虑 CASE 的判断条件， 对于当前行， 我们不仅要求它是首次登录 就是在首次登录的日期表中， 还要要求它在其首\n",
    "#### 次登陆后的第二天也登陆了 就是它也在 它的ID 和后一天登录日期也在表格中 那么他就是存留成功客户标记为1 不然就是0 \n",
    "#### 这样我们对 UNI?LOHGIN 中每一行都有了标记。 然后就是 把这个标记好的表格作为一个表 来从里面计算概率"
   ]
  },
  {
   "cell_type": "code",
   "execution_count": null,
   "metadata": {},
   "outputs": [],
   "source": [
    "\n",
    "SELECT ROUND(SUM(tt.cn)/COUNT(tt.cn),3) FROM \n",
    "(SELECT uni_login.user_id,\n",
    "    SUM(CASE \n",
    "    WHEN (uni_login.user_id, uni_login.date) \n",
    "    IN (SELECT login.user_id, min(login.date) FROM login GROUP BY login.user_id)\n",
    "    AND (uni_login.user_id, DATE_ADD(uni_login.date,INTERVAL 1 DAY))\n",
    "    IN (SELECT login.user_id, login.date FROM login GROUP BY login.user_id, login.date)\n",
    "    THEN 1 ELSE 0 END ) AS cn\n",
    "FROM \n",
    "(SELECT user_id, date FROM login \n",
    "GROUP BY user_id, date) AS uni_login\n",
    "GROUP BY uni_login.user_id) AS tt"
   ]
  },
  {
   "cell_type": "markdown",
   "metadata": {},
   "source": [
    "### 4.SQL69 牛客每个人最近的登录日期(四)\n",
    "要求 求每天 新用户登录个数\n"
   ]
  },
  {
   "cell_type": "code",
   "execution_count": null,
   "metadata": {},
   "outputs": [],
   "source": [
    "# group by date. within each group \n",
    "#SELECT date, COUNT(DISTINCT user_id) FROM login \n",
    "#GROUP BY date \n",
    "# 1. 分组 每个组里都有 日期和 USER_ID \n",
    "# 2.最早的日期里 每个distinct 的 都是第一次登录 之后 登录日期在之前组里出现过的 都是老用户\n",
    "# 我可以想到 要用到CASE 来计数 CASE 的结果会带来新的一列\n",
    "# 题解中用到 技术神器 SUM-CASE 所以CASE 会得出一列 SUM 会对这列求和\n",
    "#SELECT user_id, min(date)FROM login \n",
    "#GROUP BY user_id\n",
    "#2|2020-10-12 用户胡id 2 在最近登录日期是12 号\n",
    "#3|2020-10-12\n",
    "#1|2020-10-12\n",
    "#4|2020-10-14\n",
    "# 按照 用户分类 每个用户可以在不同日期登录设备 我们删选出它最近登陆的日期\n",
    "# case when (user_id,date) in \n",
    "#    (select user_id,min(date)from login group by user_id)\n",
    "#    then 1 else 0 end\n",
    "# CASE 在这是对每一行 进行 删选 当这一行的 USER?ID DATE 是在我们最新登录记录中 那么就计数 1\n",
    "# 比如 第一行中 2号用户最近登录在12 号 就计数 1 但是当我们到第二行时候 用户2 号 有登陆了 \n",
    "# 但是这不是他的第一次登录 我们不计算在内 计数为0 .。。 当我们遍历过所有行数 就会得到一个\n",
    "# 计数的列 全是0 或者1. 我们SUM 它 就是 原始列表 新的 列 计数的最终结果\n",
    "#SELECT date, \n",
    "#CASE\n",
    "#    WHEN (user_id, date) IN (SELECT user_id, min(date) FROM login GROUP BY user_id)\n",
    "#    THEN 1 ELSE 0 END \n",
    "#FROM login\n",
    "#2020-10-12|1\n",
    "#2020-10-12|1\n",
    "#2020-10-12|1\n",
    "#2020-10-13|0\n",
    "#2020-10-13|0\n",
    "#2020-10-14|0\n",
    "#2020-10-14|1\n",
    "#2020-10-15|0\n",
    "# 上面是只用CASE 的结果就是一行行 来判断是0 还是1 然后形成新的一列\n",
    "# 用SUM 的话 我们就是 结合 GROUP BY 因为我们要知道 每个日期总的有几个1 这些1 都是第一次登录\n",
    "\n",
    "#SELECT date, \n",
    "#SUM(CASE\n",
    "#  WHEN (user_id, date) IN (SELECT user_id, min(date) FROM login GROUP BY user_id)\n",
    " #  THEN 1 ELSE 0 END) \n",
    "#FROM login\n",
    "#GROUP BY date\n",
    "#ORDER BY date ASC\n",
    "#这个方法的弊端在于如果统一用户在最近一天登录多次那么会重复计数。 虽然可以通过 所有测试例子\n",
    "# 但是还是要对 用户和日期去重 但是不知道怎么做因为是一行一行的判断。 第一行是用户2 第一次登录\n",
    "# 在12 号 但是第二行又是用户2 登录在12 号 就没办法了 这种情况我们应该给0 \n",
    "\n",
    "# 有个想法 可以制造出一张表 保函 唯一的 (user_id, date) 所以我们不用原表LOGIN 去用CASE SUM\n",
    "# 我们用这个去重的新表上做\n",
    "SELECT date, \n",
    "SUM(CASE \n",
    "    WHEN (uni_login.user_id, uni_login.date) \n",
    "    IN (SELECT login.user_id, min(login.date) FROM login GROUP BY user_id) \n",
    "    THEN 1 ELSE 0 END) FROM \n",
    "(SELECT user_id, date FROM login \n",
    "GROUP BY user_id, date) AS uni_login\n",
    "GROUP BY uni_login.date \n",
    "ORDER BY uni_login.date ASC\n"
   ]
  },
  {
   "cell_type": "code",
   "execution_count": null,
   "metadata": {},
   "outputs": [],
   "source": [
    "SELECT date,\n",
    "SUM(CASE\n",
    "   WHEN (user_id, date) IN (SELECT user_id, min(date) FROM login GROUP BY user_id)\n",
    "   THEN 1 ELSE 0 END)\n",
    "FROM login\n",
    "GROUP BY date\n",
    "ORDER BY date ASC"
   ]
  },
  {
   "cell_type": "markdown",
   "metadata": {},
   "source": [
    "### 5. 牛客每天有很多人登录，请你统计一下牛客每个日期新用户的次日留存率。"
   ]
  },
  {
   "cell_type": "code",
   "execution_count": null,
   "metadata": {},
   "outputs": [],
   "source": [
    "# new customer left rate each day\n",
    "# log in table: date, user_id \n",
    "# so we need to look through all date and verdict the user logged in on this date is the \n",
    "# new user this means it has a new user_id and it has not been used before. \n",
    "# one table: all distinct user_id\n",
    "# one table group dates per group and get its new customer \n",
    "\n",
    "# new users' first day of login\n",
    "#SELECT user_id, min(date) FROM login GROUP BY user_id\n",
    "\n",
    "# these new users stay rate from there first day \n",
    "# 这里用LEFT JOIN 应该也是改变了 LOGIN 表格 但是新生成的表格里 因为是左连接 所以 A 表格中全员保留 \n",
    "# 而LOGIN 中 只 保留了 第二天出现过的user\n",
    "SELECT a.date, COUNT(DISTINCT login.user_id)/COUNT(a.user_id) as aa FROM\n",
    "(SELECT user_id, min(date) AS date FROM login GROUP BY user_id) AS a\n",
    "LEFT JOIN login\n",
    "ON a.user_id=login.user_id AND login.date=DATE_ADD(a.date,INTERVAL 1 DAY)\n",
    "GROUP BY a.date\n",
    "\n",
    "#\n",
    "SELECT a.date, a.user_id FROM\n",
    "(SELECT user_id, min(date) AS date FROM login GROUP BY user_id) AS a, login\n",
    "WHERE a.user_id=login.user_id AND login.date=DATE_ADD(a.date,INTERVAL 1 DAY)\n",
    "# filter 符合条件的 user 就是是该日期内的新用户 而且第二天登陆了 之余 其他日期内再次出现不考虑"
   ]
  },
  {
   "cell_type": "markdown",
   "metadata": {},
   "source": [
    "#### 新用户 首次登录日期及其存留情况。NONE 表示没有这样的ID 所以没有存留》 LEFT JOIN"
   ]
  },
  {
   "cell_type": "code",
   "execution_count": 1,
   "metadata": {},
   "outputs": [
    {
     "ename": "SyntaxError",
     "evalue": "invalid syntax (<ipython-input-1-e0e9260da6f7>, line 1)",
     "output_type": "error",
     "traceback": [
      "\u001b[1;36m  File \u001b[1;32m\"<ipython-input-1-e0e9260da6f7>\"\u001b[1;36m, line \u001b[1;32m1\u001b[0m\n\u001b[1;33m    SELECT a.date, a.user_id, login.user_id as aa FROM\u001b[0m\n\u001b[1;37m           ^\u001b[0m\n\u001b[1;31mSyntaxError\u001b[0m\u001b[1;31m:\u001b[0m invalid syntax\n"
     ]
    }
   ],
   "source": [
    "SELECT a.date, a.user_id, login.user_id as aa FROM\n",
    "(SELECT user_id, min(date) AS date FROM login GROUP BY user_id) AS a\n",
    "LEFT JOIN login \n",
    "ON a.user_id=login.user_id AND login.date=DATE_ADD(a.date,INTERVAL 1 DAY) \n",
    "\n",
    "#### \n",
    "NONE means login.user_id does not log in at the date of 2020-10-13 \n",
    "so left join will keep all existed user_id from left table which is a in this case then it will join login table \n",
    "based on conditions. the conditions are the user_id from table a and if they also login on next date of current date from\n",
    "login table. So there is no this user id 3 who log in the first time at 2020-10-12 but also login at 2020-10-13 \n",
    "2020-10-12|2|2\n",
    "2020-10-12|3|None\n",
    "2020-10-12|1|1\n",
    "2020-10-14|4|4"
   ]
  },
  {
   "cell_type": "markdown",
   "metadata": {},
   "source": [
    "#### 对比之下 LEFT JOIN 和 WHERE 自联结"
   ]
  },
  {
   "cell_type": "markdown",
   "metadata": {},
   "source": [
    "#### 新用户首次登录日期并且隔日再登录日期情况 WHERE 自联结"
   ]
  },
  {
   "cell_type": "code",
   "execution_count": null,
   "metadata": {},
   "outputs": [],
   "source": [
    "#### WHERE \n",
    "SELECT a.date, a.user_id, login.* FROM\n",
    "(SELECT user_id, min(date) AS date FROM login GROUP BY user_id) AS a, login\n",
    "#LEFT JOIN login \n",
    "#ON a.user_id=login.user_id AND login.date=DATE_ADD(a.date,INTERVAL 1 DAY) \n",
    "WHERE a.user_id=login.user_id AND login.date=DATE_ADD(a.date,INTERVAL 1 DAY)\n",
    "###\n",
    "WHERE 做了一个自联结 出现的就是 符合条件的 新用户且第二天登录了。 联结的 LOGIN 部分就是符合条件的部分 没有任何NONE \n",
    "2020-10-12|2|4|2|2|2020-10-13\n",
    "2020-10-12|1|5|1|2|2020-10-13\n",
    "2020-10-14|4|8|4|1|2020-10-15"
   ]
  },
  {
   "cell_type": "markdown",
   "metadata": {},
   "source": [
    "** ！！！！ 方法一 UNION + LEFT JOIN. LEFT JOIN WILL KEEP NONE CASES"
   ]
  },
  {
   "cell_type": "code",
   "execution_count": null,
   "metadata": {},
   "outputs": [],
   "source": [
    "#### 存留率计算 基于上面的部分展开\n",
    "#### 而LOGIN 中 只 保留了 第二天出现过的user\n",
    "SELECT a.date, ROUND(COUNT(DISTINCT login.user_id) / COUNT(a.user_id),3) AS stay_rate FROM\n",
    "(SELECT user_id, min(date) AS date FROM login GROUP BY user_id) AS a\n",
    "LEFT JOIN login \n",
    "ON a.user_id=login.user_id AND login.date=DATE_ADD(a.date,INTERVAL 1 DAY) \n",
    "GROUP BY a.date\n",
    "####  UNION 用于纵向 链接表格就是 一行行 来UNION 的\n",
    "UNION \n",
    "SELECT date, 0.000 as p FROM login\n",
    "WHERE date NOT IN (SELECT min(date) FROM login GROUP BY user_id)\n",
    "ORDER BY date ASC "
   ]
  },
  {
   "cell_type": "code",
   "execution_count": null,
   "metadata": {},
   "outputs": [],
   "source": [
    "！！！！ 方法2 用CASE 来判断 然后求商 based on WHERE we use CASE when \n",
    "\n",
    "step 1: get the number of new user on each date. 0 means all user are old users \n",
    "    SELECT date,\n",
    "\n",
    "/\n",
    "SUM(CASE\n",
    "    WHEN (user_id, date) \n",
    "    IN (SELECT user_id, min(date) FROM login GROUP BY user_id)\n",
    "    THEN 1 ELSE 0 END\n",
    "   )\n",
    "FROM login \n",
    "GROUP BY date\n",
    "\n",
    "# get\n",
    "2020-10-12|3\n",
    "2020-10-13|0\n",
    "2020-10-14|1\n",
    "2020-10-15|0\n",
    "\n",
    "step 2: get the number of users who stay and log in again at the next day of their first log in date\n",
    "    SELECT date,\n",
    "\n",
    "SUM(CASE\n",
    "    WHEN (user_id, DATE_ADD(date, INTERVAL 1 DAY)) \n",
    "    IN (SELECT user_id, date FROM login GROUP BY user_id, date)\n",
    "    THEN 1 ELSE 0 END\n",
    "   )\n",
    "FROM login \n",
    "GROUP BY date\n",
    "ORDER BY date ASC\n",
    "\n",
    "##get \n",
    "2020-10-12|2\n",
    "2020-10-13|0\n",
    "2020-10-14|1\n",
    "2020-10-15|0\n",
    "\n",
    "step 3:combine 1 and 2 \n",
    "SELECT date,\n",
    "ROUND(\n",
    "SUM(CASE\n",
    "    WHEN (user_id, DATE_ADD(date, INTERVAL 1 DAY)) \n",
    "    IN (SELECT user_id, date FROM login GROUP BY user_id, date)\n",
    "    THEN 1 ELSE 0 END\n",
    "   )/\n",
    "SUM(CASE\n",
    "    WHEN (user_id, date) \n",
    "    IN (SELECT user_id, min(date) FROM login GROUP BY user_id)\n",
    "    THEN 1 ELSE 0 END\n",
    "   ),3\n",
    "    )\n",
    "FROM login \n",
    "GROUP BY date\n",
    "ORDER BY date ASC\n",
    "\n",
    "##GET \n",
    "2020-10-12|0.667\n",
    "2020-10-13|None\n",
    "2020-10-14|1.000\n",
    "2020-10-15|None\n",
    "    \n",
    "STEP 4 IN SQL 0/0 =NONE \n",
    "THEN how to cope with NONE and replace then with 0 \n",
    "ifnull? \n",
    "\n",
    "SELECT date,\n",
    "IFNULL(ROUND(\n",
    "SUM(CASE\n",
    "    WHEN (user_id, DATE_ADD(date, INTERVAL 1 DAY)) \n",
    "    IN (SELECT user_id, date FROM login GROUP BY user_id, date)\n",
    "    THEN 1 ELSE 0 END\n",
    "   )/\n",
    "SUM(CASE\n",
    "    WHEN (user_id, date) \n",
    "    IN (SELECT user_id, min(date) FROM login GROUP BY user_id)\n",
    "    THEN 1 ELSE 0 END\n",
    "   ),3\n",
    "    ),0\n",
    "       )\n",
    "FROM login \n",
    "GROUP BY date\n",
    "ORDER BY date ASC"
   ]
  },
  {
   "cell_type": "code",
   "execution_count": null,
   "metadata": {},
   "outputs": [],
   "source": []
  },
  {
   "cell_type": "markdown",
   "metadata": {},
   "source": [
    "### 6. "
   ]
  },
  {
   "cell_type": "code",
   "execution_count": null,
   "metadata": {},
   "outputs": [],
   "source": [
    "# we do not need to show the user who logged in but without doing any tasks \n",
    "SELECT p1.user_id, p1.date, p2.number FROM passing_number p1, passing_number p2 \n",
    "WHERE p1.user_id=p2.user_id and p2.date >= p1.date\n",
    "\n",
    "#get \n",
    "2|2020-10-12|4\n",
    "3|2020-10-12|1\n",
    "1|2020-10-13|0\n",
    "3|2020-10-13|2\n",
    "3|2020-10-12|2\n",
    "\n",
    "2|2020-10-12|2020-10-12|4\n",
    "3|2020-10-12|2020-10-12|1\n",
    "1|2020-10-13|2020-10-13|0\n",
    "3|2020-10-13|2020-10-13|2\n",
    "3|2020-10-12|2020-10-13|2\n",
    "\n",
    "上面用P2 来判断截止日期之前是错误的\n",
    "\n",
    "\n",
    "\n",
    "\n",
    "SELECT p1.user_id, p1.date, p2.number FROM passing_number p1, passing_number p2 \n",
    "WHERE p1.user_id=p2.user_id and p1.date >= p2.date\n",
    "# get\n",
    "2|2020-10-12|4\n",
    "3|2020-10-13|1\n",
    "3|2020-10-12|1\n",
    "1|2020-10-13|0\n",
    "3|2020-10-13|2\n",
    "\n",
    "2|2020-10-12|2020-10-12|4\n",
    "3|2020-10-13|2020-10-12|1\n",
    "3|2020-10-12|2020-10-12|1\n",
    "1|2020-10-13|2020-10-13|0\n",
    "3|2020-10-13|2020-10-13|2\n",
    "\n",
    "为什么结果不一样 当我们用自联结时候 WHERE 在干什么\n",
    "第一个中我们选的 P1 USERID DATE 它会从 P1 表中 一条一条 拿出来  匹配 WHERE CONDITION\n",
    "第一条 USERID 2 满足时 有没有  p1.date >= p2.date?  有一条这样的SUM 它对应 NUMBER 是4\n",
    "当我们到P1 第二条时候 USERID 3， 当前P1.DATE 是2012，满足p1.date >= p2.date 只有一条 就是当前日期截止之前USER 3 只有一条\n",
    "遍历到USER 1， 满足p1.date >= p2.date 的P2 对应的NUMVBER 是0. \n",
    "USER 3， 此时 P1 DATE 2010、10、13 对应p1.date >= p2.date 的P2 DATE 有两条所以 会得到两条记录\n",
    "\n",
    "3|2020-10-13|2020-10-12|1\n",
    "3|2020-10-13|2020-10-13|2\n"
   ]
  },
  {
   "cell_type": "markdown",
   "metadata": {},
   "source": [
    "#### solution 1 BASED ON ANALYSIS ABOVE"
   ]
  },
  {
   "cell_type": "code",
   "execution_count": null,
   "metadata": {},
   "outputs": [],
   "source": [
    "### SOLUTION 1\n",
    "SELECT n.name AS u_n, l.date, l.ps_num FROM user n \n",
    "INNER JOIN \n",
    "(SELECT p1.user_id, p1.date, SUM(p2.number) AS ps_num FROM passing_number p1, passing_number p2 \n",
    "WHERE p1.user_id=p2.user_id and p1.date >= p2.date\n",
    "GROUP BY p1.user_id, p1.date) l\n",
    "ON n.id=l.user_id \n",
    "ORDER BY l.date ASC, u_n ASC"
   ]
  },
  {
   "cell_type": "markdown",
   "metadata": {},
   "source": [
    "#### solution 2 BASED ON ANALYSIS ABOVE"
   ]
  },
  {
   "cell_type": "code",
   "execution_count": null,
   "metadata": {},
   "outputs": [],
   "source": [
    "\n",
    "SELECT user_id, SUM(number) FROM passing_number\n",
    "GROUP BY user_id \n",
    "\n",
    "# get \n",
    "2|4\n",
    "3|3\n",
    "1|0 \n",
    "sum all numbers per user_id\n",
    "\n",
    "\n",
    "2. \n",
    "SELECT user_id, SUM(number) OVER(PARTITION BY user_id ORDER BY date) FROM passing_number\n",
    "\n",
    "# get \n",
    "This will keep all user_id with different date from table\n",
    "1|0\n",
    "2|4\n",
    "3|1\n",
    "3|3"
   ]
  },
  {
   "cell_type": "code",
   "execution_count": null,
   "metadata": {},
   "outputs": [],
   "source": [
    "SELECT u.name as u_n, l_p.date, l_p.number as ps_num \n",
    "FROM\n",
    "(SELECT l.user_id, l.date, p.number FROM login l \n",
    "LEFT JOIN passing_number p \n",
    "ON l.user_id=p.user_id) AS l_p\n",
    "LEFT JOIN user u \n",
    "ON l_p.user_id=u.id \n",
    "WHERE l_p.number >0\n",
    "ORDER BY l_p.date ASC, u_n ASC\n",
    "\n",
    "#result\n",
    "fh|2020-10-12|4\n",
    "wangchao|2020-10-12|2\n",
    "wangchao|2020-10-12|1\n",
    "wangchao|2020-10-13|2\n",
    "wangchao|2020-10-13|1\n",
    "\n",
    "# 以及截止到某天，累计总共通过了多少题\n",
    "# SUM*() OVER*(PARTITION BY XX ORDER BYXX) 实现分区累加 按照哪个分类例如同意姓名的相加\n",
    "SELECT u.name as u_n, lp.date, \n",
    "SUM(lp.number) OVER(partition by lp.user_id ORDER BY date) as ps_num FROM \n",
    "(SELECT l.user_id, l.date, p.number FROM login l \n",
    "INNER JOIN passing_number p \n",
    "ON l.user_id=p.user_id and l.date=p.date) AS lp,\n",
    "user u\n",
    "#WHERE lp.date <= pn.date AND lp.user_id=pn.user_id\n",
    "#GROUP BY lp.user_id, lp.date\n",
    "WHERE lp.user_id=u.id\n",
    "ORDER BY lp.date ASC, u.name ASC\n"
   ]
  },
  {
   "cell_type": "code",
   "execution_count": null,
   "metadata": {},
   "outputs": [],
   "source": [
    "####  总结这题考察的是分组 且对 截止多少多少前求累加值\n",
    "我还是更倾向第一种方法。 我把 每个用户每个日期 截止前 的 做题数目先求出来。 \n",
    "再加上对 用户号 登录日期 GROUP BY 用SUM 可以求出 每个用户每个日期截止期总的做题数目\n",
    "\n",
    "### 第二种的话 用的SUM OVER 他应该是 用窗口函数按姓名分区按日期排序计算累计数\n",
    "所以 这个按日期排序一定要有 不然 SUM 不知道按照什么来累加。 我们给了 日期排序的话 他会知道按照日期累加 "
   ]
  }
 ],
 "metadata": {
  "kernelspec": {
   "display_name": "Python 3",
   "language": "python",
   "name": "python3"
  },
  "language_info": {
   "codemirror_mode": {
    "name": "ipython",
    "version": 3
   },
   "file_extension": ".py",
   "mimetype": "text/x-python",
   "name": "python",
   "nbconvert_exporter": "python",
   "pygments_lexer": "ipython3",
   "version": "3.8.5"
  }
 },
 "nbformat": 4,
 "nbformat_minor": 4
}
