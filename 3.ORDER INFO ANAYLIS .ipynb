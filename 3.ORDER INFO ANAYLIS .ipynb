{
 "cells": [
  {
   "cell_type": "markdown",
   "metadata": {},
   "source": [
    "### 1. 请你写出一个sql语句查询在2025-10-15以后，同一个用户下单2个以及2个以上状态为购买成功的C++课程或Java课### 程或Python课程#### 的user_id，\n",
    "#### 并且按照user_id升序排序，以上例子查询结果如下:\n",
    "\n",
    "这道题的关键在于 找出统一用户下单成功超过两次的 ID 那么我们肯定会想到 SUM*(CASE WHEN)\n",
    "当然也可以用 GROUP BY 然后用AGG 对我们的分组聚合 只是注意在分组中用条件函数来删选的时候 不用WHERE 用HAVING\n"
   ]
  },
  {
   "cell_type": "code",
   "execution_count": null,
   "metadata": {},
   "outputs": [],
   "source": [
    "\n",
    "SELECT new.user_id FROM \n",
    "(SELECT user_id, SUM(\n",
    "CASE \n",
    "WHEN status='completed' \n",
    "THEN 1 ELSE 0 END) AS deal\n",
    "FROM order_info \n",
    "WHERE date>'2025-10-15'\n",
    "AND (product_name='C++' OR product_name='Python' OR product_name='Java')\n",
    "GROUP BY user_id) AS new\n",
    "WHERE new.deal>=2\n",
    "ORDER BY new.user_id ASC"
   ]
  },
  {
   "cell_type": "code",
   "execution_count": null,
   "metadata": {},
   "outputs": [],
   "source": [
    "select user_id\n",
    "from order_info\n",
    "where datediff(date,\"2025-10-15\")>0\n",
    "  and status =\"completed\"\n",
    "  and product_name in(\"C++\",\"Java\",\"Python\")\n",
    "group by user_id\n",
    "having count(id)>=2\n",
    "order by user_id"
   ]
  },
  {
   "cell_type": "markdown",
   "metadata": {},
   "source": [
    "### 2. SQL79 牛客的课程订单分析(三)\n",
    " \n",
    "\n",
    "请你写出一个sql语句查询在2025-10-15以后，同一个用户下单2个以及2个以上状态为购买成功的C++课程或Java课程或Python课程的订单信息，并且按照order_info的id升序排序"
   ]
  },
  {
   "cell_type": "code",
   "execution_count": null,
   "metadata": {},
   "outputs": [],
   "source": [
    "#  zuo bu chu lai 做到这样复杂的情况下 就是基本不对\n",
    "SELECT oo.id, ss.user_id, ss.product_name, ss.status, oo.client_id, ss.date FROM order_info oo,\n",
    "(SELECT oi.user_id, oi.product_name, oi.status, oi.date FROM order_info as oi, \n",
    "(SELECT user_id,\n",
    "SUM(\n",
    "CASE \n",
    "WHEN status='completed' THEN 1 ELSE 0 END) AS cont\n",
    "FROM order_info\n",
    "WHERE date>'2025-10-15'\n",
    "AND (product_name='C++' OR product_name='Python' OR product_name='Java') \n",
    "GROUP BY user_id) AS ll\n",
    "WHERE oi.user_id=ll.user_id \n",
    "AND (oi.product_name='C++' OR oi.product_name='Python' OR oi.product_name='Java')\n",
    "AND oi.date>'2025-10-15' AND oi.status='completed'\n",
    "GROUP BY oi.user_id, oi.product_name, oi.status, oi.date\n",
    "ORDER BY oi.id ASC) AS ss\n",
    "WHERE oo.user_id=ss.user_id "
   ]
  },
  {
   "cell_type": "code",
   "execution_count": 1,
   "metadata": {},
   "outputs": [
    {
     "ename": "SyntaxError",
     "evalue": "invalid syntax (<ipython-input-1-5042fe3bc505>, line 4)",
     "output_type": "error",
     "traceback": [
      "\u001b[1;36m  File \u001b[1;32m\"<ipython-input-1-5042fe3bc505>\"\u001b[1;36m, line \u001b[1;32m4\u001b[0m\n\u001b[1;33m    SELECT oi.id, oi.user_id, oi.product_name, oi.status, oi.client_id, oi.date FROM order_info oi,\u001b[0m\n\u001b[1;37m           ^\u001b[0m\n\u001b[1;31mSyntaxError\u001b[0m\u001b[1;31m:\u001b[0m invalid syntax\n"
     ]
    }
   ],
   "source": [
    "#### 改进我自己做出的\n",
    "#### 用 SUM CASE WHEN 我可以算出同一个用户下单两个及其两个以上状态的 信息 但是这个只能筛选出 符合条件的ID \n",
    "### 然后我们用新的WHERE 加所有限制条件当我们从公用的原始表格中 fetch 其他的信息时候\n",
    "SELECT oi.id, oi.user_id, oi.product_name, oi.status, oi.client_id, oi.date FROM order_info oi,\n",
    "(SELECT user_id, SUM(CASE\n",
    "          WHEN status='completed' THEN 1 ELSE 0 END) AS t \n",
    " FROM order_info \n",
    " WHERE (product_name='C++' OR product_name='Python' OR product_name='Java')\n",
    " AND date > '2025-10-15'\n",
    " GROUP BY user_id) AS ss\n",
    " # as ss\n",
    " WHERE ss.t>=2 AND oi.user_id=ss.user_id AND oi.status='completed'\n",
    " AND (oi.product_name='C++' OR oi.product_name='Python' OR oi.product_name='Java')\n",
    " AND oi.date>'2025-10-15'"
   ]
  }
 ],
 "metadata": {
  "kernelspec": {
   "display_name": "Python 3",
   "language": "python",
   "name": "python3"
  },
  "language_info": {
   "codemirror_mode": {
    "name": "ipython",
    "version": 3
   },
   "file_extension": ".py",
   "mimetype": "text/x-python",
   "name": "python",
   "nbconvert_exporter": "python",
   "pygments_lexer": "ipython3",
   "version": "3.8.5"
  }
 },
 "nbformat": 4,
 "nbformat_minor": 4
}
